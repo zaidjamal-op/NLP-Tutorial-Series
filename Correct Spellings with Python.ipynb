{
 "cells": [
  {
   "cell_type": "code",
   "execution_count": 1,
   "id": "44a65aff",
   "metadata": {},
   "outputs": [],
   "source": [
    "from textblob import TextBlob"
   ]
  },
  {
   "cell_type": "code",
   "execution_count": 38,
   "id": "9fdfe672",
   "metadata": {},
   "outputs": [],
   "source": [
    "words = [\"Banano\"]"
   ]
  },
  {
   "cell_type": "code",
   "execution_count": 39,
   "id": "26df8337",
   "metadata": {},
   "outputs": [],
   "source": [
    "corrected_words = []"
   ]
  },
  {
   "cell_type": "code",
   "execution_count": 40,
   "id": "5d4c8559",
   "metadata": {},
   "outputs": [
    {
     "name": "stdout",
     "output_type": "stream",
     "text": [
      "Wrong words : ['Banano']\n",
      "Corrected Words are :\n"
     ]
    }
   ],
   "source": [
    "for i in words:\n",
    "    corrected_words.append(TextBlob(i))\n",
    "print(\"Wrong words :\", words)\n",
    "print(\"Corrected Words are :\")"
   ]
  },
  {
   "cell_type": "code",
   "execution_count": 41,
   "id": "3160f18f",
   "metadata": {},
   "outputs": [
    {
     "name": "stdout",
     "output_type": "stream",
     "text": [
      "Banana "
     ]
    }
   ],
   "source": [
    "for i in corrected_words:\n",
    "    print(i.correct(), end=\" \")"
   ]
  },
  {
   "cell_type": "code",
   "execution_count": null,
   "id": "203f7c8b",
   "metadata": {},
   "outputs": [],
   "source": [
    "Carvel, sace detection, machin learnin, Potata, Banano"
   ]
  }
 ],
 "metadata": {
  "kernelspec": {
   "display_name": "Python 3",
   "language": "python",
   "name": "python3"
  },
  "language_info": {
   "codemirror_mode": {
    "name": "ipython",
    "version": 3
   },
   "file_extension": ".py",
   "mimetype": "text/x-python",
   "name": "python",
   "nbconvert_exporter": "python",
   "pygments_lexer": "ipython3",
   "version": "3.9.5"
  }
 },
 "nbformat": 4,
 "nbformat_minor": 5
}
